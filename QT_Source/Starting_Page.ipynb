{
 "cells": [
  {
   "cell_type": "code",
   "execution_count": null,
   "id": "6e900abc-d378-48f0-9ec1-9fee830bcc86",
   "metadata": {},
   "outputs": [],
   "source": [
    "from PyQt6.QtWidgets import QApplication, QMainWindow, QLabel, QPushButton, QVBoxLayout, QHBoxLayout, QWidget\n",
    "from PyQt6.QtCore import Qt\n",
    "from PyQt6.QtGui import QFont\n",
    "import sys"
   ]
  },
  {
   "cell_type": "code",
   "execution_count": null,
   "id": "2bc4ac9f-27de-49c5-8f87-26bcf0d558c8",
   "metadata": {},
   "outputs": [],
   "source": [
    "class StartingPage(QMainWindow):\n",
    "    def __init__(self):\n",
    "        super().__init__()\n",
    "        self.setGeometry(200, 200, 300, 300)\n",
    "        self.setWindowTitle(\"Starting Page\")\n",
    "        self.initUI()\n",
    "\n",
    "    def initUI(self):\n",
    "        central_widget = QWidget(self)\n",
    "        self.setCentralWidget(central_widget)\n",
    "\n",
    "        # Create a vertical layout for the main window\n",
    "        main_layout = QVBoxLayout(central_widget)\n",
    "\n",
    "        # Label\n",
    "        self.label = QLabel()\n",
    "        self.label.setText(\"Do you want to see the labelled photos or Unlabelled?\")\n",
    "        self.label.setAlignment(Qt.AlignmentFlag.AlignCenter)\n",
    "        self.label.setFont(QFont('Arial', 20))\n",
    "        main_layout.addWidget(self.label)\n",
    "\n",
    "        # Horizontal layout for buttons\n",
    "        button_layout = QHBoxLayout()\n",
    "        button_layout.setAlignment(Qt.AlignmentFlag.AlignCenter)  # Aligns the QHBoxLayout center within its parent layout\n",
    "        button_layout.setContentsMargins(40, 100, 40, 320)  # Sets margins around the QHBoxLayout\n",
    "        button_layout.setSpacing(250)  # Sets spacing between buttons\n",
    "\n",
    "        self.b1 = QPushButton()\n",
    "        self.b1.setText(\"Labelled\")\n",
    "        self.b1.clicked.connect(self.clicked1)\n",
    "        self.b1.setFont(QFont('Arial', 16))\n",
    "        button_layout.addWidget(self.b1)\n",
    "\n",
    "        self.b2 = QPushButton()\n",
    "        self.b2.setText(\"Unlabelled\")\n",
    "        self.b2.clicked.connect(self.clicked2)\n",
    "        self.b2.setFont(QFont('Arial', 16))\n",
    "        button_layout.addWidget(self.b2)\n",
    "\n",
    "        # Add the horizontal layout to the main vertical layout\n",
    "        main_layout.addLayout(button_layout)\n",
    "\n",
    "    def clicked1(self):\n",
    "        self.b1.setText(\"You pressed the Labelled button\")\n",
    "        self.b1.adjustSize()\n",
    "\n",
    "    def clicked2(self):\n",
    "        self.b2.setText(\"You pressed the Unlabelled button\")\n",
    "        self.b2.adjustSize()"
   ]
  },
  {
   "cell_type": "code",
   "execution_count": null,
   "id": "1925bae2-753b-4af8-93b4-f4dbda8d9d94",
   "metadata": {},
   "outputs": [],
   "source": [
    "def window():\n",
    "    app = QApplication(sys.argv)\n",
    "    win = StartingPage()\n",
    "    win.show()\n",
    "    sys.exit(app.exec())"
   ]
  },
  {
   "cell_type": "code",
   "execution_count": null,
   "id": "b1f690ce-0e10-48f9-8fc4-87323acfba38",
   "metadata": {},
   "outputs": [],
   "source": [
    "window()"
   ]
  },
  {
   "cell_type": "code",
   "execution_count": null,
   "id": "1c0576e7-6fda-4d23-b665-35c67a5b5119",
   "metadata": {},
   "outputs": [],
   "source": []
  }
 ],
 "metadata": {
  "kernelspec": {
   "display_name": "Python 3 (ipykernel)",
   "language": "python",
   "name": "python3"
  },
  "language_info": {
   "codemirror_mode": {
    "name": "ipython",
    "version": 3
   },
   "file_extension": ".py",
   "mimetype": "text/x-python",
   "name": "python",
   "nbconvert_exporter": "python",
   "pygments_lexer": "ipython3",
   "version": "3.11.9"
  }
 },
 "nbformat": 4,
 "nbformat_minor": 5
}
