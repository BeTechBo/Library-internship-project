{
 "cells": [
  {
   "cell_type": "code",
   "execution_count": null,
   "id": "f63bb67c-eb9e-4f00-92c5-4297b24c1f83",
   "metadata": {},
   "outputs": [
    {
     "name": "stdout",
     "output_type": "stream",
     "text": [
      "Double-clicked on: IMG-20240416-WA0007.jpg\n",
      "Loaded names: ['Ashkar', 'khalil', 'isamil']\n",
      "Saved image names for IMG-20240416-WA0007.jpg\n"
     ]
    }
   ],
   "source": [
    "import sys\n",
    "from pages.starting_page import StartingPage\n",
    "from PyQt6.QtWidgets import QApplication\n",
    "from styles.style import StyleSheet\n",
    "\n",
    "if __name__ == \"__main__\":\n",
    "    app = QApplication(sys.argv)\n",
    "    app.setStyleSheet(StyleSheet.style())\n",
    "    main_window = StartingPage()\n",
    "    main_window.show()\n",
    "    sys.exit(app.exec())\n"
   ]
  },
  {
   "cell_type": "code",
   "execution_count": null,
   "id": "75f2ca3b-3936-47ed-8114-5411f8a89d0d",
   "metadata": {},
   "outputs": [],
   "source": []
  },
  {
   "cell_type": "code",
   "execution_count": null,
   "id": "6ec1d054-d16a-492d-9b9e-73bbc8bc2592",
   "metadata": {},
   "outputs": [],
   "source": []
  }
 ],
 "metadata": {
  "kernelspec": {
   "display_name": "Python 3 (ipykernel)",
   "language": "python",
   "name": "python3"
  },
  "language_info": {
   "codemirror_mode": {
    "name": "ipython",
    "version": 3
   },
   "file_extension": ".py",
   "mimetype": "text/x-python",
   "name": "python",
   "nbconvert_exporter": "python",
   "pygments_lexer": "ipython3",
   "version": "3.8.19"
  }
 },
 "nbformat": 4,
 "nbformat_minor": 5
}
