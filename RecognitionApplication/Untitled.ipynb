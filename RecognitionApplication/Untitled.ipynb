{
 "cells": [
  {
   "cell_type": "code",
   "execution_count": 1,
   "id": "aa8c9a29-55c4-432d-ae51-406179bb7a99",
   "metadata": {},
   "outputs": [
    {
     "name": "stdout",
     "output_type": "stream",
     "text": [
      "Image saved to MongoDB GridFS with id: 669ea81366b81e0706e1c14d\n",
      "Image saved to MongoDB GridFS with id: 669ea81366b81e0706e1c14f\n",
      "Image saved to MongoDB GridFS with id: 669ea81366b81e0706e1c151\n",
      "Image saved to MongoDB GridFS with id: 669ea81366b81e0706e1c153\n",
      "Image saved to MongoDB GridFS with id: 669ea81366b81e0706e1c155\n",
      "Image saved to MongoDB GridFS with id: 669ea81366b81e0706e1c158\n",
      "Image saved to MongoDB GridFS with id: 669ea82b66b81e0706e1c15b\n",
      "Image saved to MongoDB GridFS with id: 669ea82b66b81e0706e1c15d\n",
      "Image saved to MongoDB GridFS with id: 669ea82b66b81e0706e1c160\n",
      "Image saved to MongoDB GridFS with id: 669ea82b66b81e0706e1c178\n",
      "Image saved to MongoDB GridFS with id: 669ea82b66b81e0706e1c192\n",
      "Image saved to MongoDB GridFS with id: 669ea82b66b81e0706e1c195\n",
      "Image saved to MongoDB GridFS with id: 669ea82b66b81e0706e1c197\n",
      "Image saved to MongoDB GridFS with id: 669ea82b66b81e0706e1c199\n",
      "Double-clicked on: WhatsApp Image 2024-04-03 at 14.49.25_ce2a9ef9.jpg\n",
      "Double-clicked on: WhatsApp Image 2024-04-01 at 22.18.12_bbb5ddb0.jpg\n",
      "Double-clicked on: Khalil_Ashkar_Ikram_Ismail_Brain.jpg\n",
      "Double-clicked on: WhatsApp Image 2024-04-03 at 14.49.25_ce2a9ef9.jpg\n",
      "Double-clicked on: WhatsApp Image 2024-03-30 at 22.56.49_5b257ad0.jpg\n",
      "Double-clicked on: WhatsApp Image 2024-03-30 at 22.56.49_7799c18c.jpg\n",
      "Double-clicked on: Ashkar-Khalil-Zahraa MAC Center KSU.jpeg\n",
      "Double-clicked on: International student office_KSU.jpg\n"
     ]
    },
    {
     "ename": "SystemExit",
     "evalue": "0",
     "output_type": "error",
     "traceback": [
      "An exception has occurred, use %tb to see the full traceback.\n",
      "\u001b[1;31mSystemExit\u001b[0m\u001b[1;31m:\u001b[0m 0\n"
     ]
    },
    {
     "name": "stderr",
     "output_type": "stream",
     "text": [
      "C:\\Users\\AUC\\Desktop\\anaconda\\envs\\env_ash\\lib\\site-packages\\IPython\\core\\interactiveshell.py:3516: UserWarning: To exit: use 'exit', 'quit', or Ctrl-D.\n",
      "  warn(\"To exit: use 'exit', 'quit', or Ctrl-D.\", stacklevel=1)\n"
     ]
    }
   ],
   "source": [
    "import sys\n",
    "from pages.starting_page import StartingPage\n",
    "from PyQt6.QtWidgets import QApplication\n",
    "from styles.style import StyleSheet\n",
    "\n",
    "if __name__ == \"__main__\":\n",
    "    app = QApplication(sys.argv)\n",
    "    app.setStyleSheet(StyleSheet.style())\n",
    "    main_window = StartingPage()\n",
    "    main_window.show()\n",
    "    sys.exit(app.exec())\n"
   ]
  },
  {
   "cell_type": "code",
   "execution_count": null,
   "id": "d125b19e-95ef-4c5a-9f70-b56ba0eade4b",
   "metadata": {},
   "outputs": [],
   "source": []
  }
 ],
 "metadata": {
  "kernelspec": {
   "display_name": "Python 3 (ipykernel)",
   "language": "python",
   "name": "python3"
  },
  "language_info": {
   "codemirror_mode": {
    "name": "ipython",
    "version": 3
   },
   "file_extension": ".py",
   "mimetype": "text/x-python",
   "name": "python",
   "nbconvert_exporter": "python",
   "pygments_lexer": "ipython3",
   "version": "3.8.19"
  }
 },
 "nbformat": 4,
 "nbformat_minor": 5
}
