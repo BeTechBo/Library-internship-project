{
 "cells": [
  {
   "cell_type": "code",
   "execution_count": 1,
   "id": "7e9933a9-c1de-46b4-81ec-066409aeebfb",
   "metadata": {},
   "outputs": [
    {
     "name": "stdout",
     "output_type": "stream",
     "text": [
      "Image saved to directory with path: C:\\Users\\user\\Downloads\\Library_Internship\\GitHub\\LibraryFacialRecognition\\RecognitionApplication\\uploaded_images\\tom (1).jpg\n",
      "Image saved to directory with path: C:\\Users\\user\\Downloads\\Library_Internship\\GitHub\\LibraryFacialRecognition\\RecognitionApplication\\uploaded_images\\tom.jpg\n"
     ]
    },
    {
     "ename": "SystemExit",
     "evalue": "0",
     "output_type": "error",
     "traceback": [
      "An exception has occurred, use %tb to see the full traceback.\n",
      "\u001b[1;31mSystemExit\u001b[0m\u001b[1;31m:\u001b[0m 0\n"
     ]
    },
    {
     "name": "stderr",
     "output_type": "stream",
     "text": [
      "D:\\Anaconda\\Lib\\site-packages\\IPython\\core\\interactiveshell.py:3585: UserWarning: To exit: use 'exit', 'quit', or Ctrl-D.\n",
      "  warn(\"To exit: use 'exit', 'quit', or Ctrl-D.\", stacklevel=1)\n"
     ]
    }
   ],
   "source": [
    "import sys\n",
    "from pages.starting_page import StartingPage\n",
    "from PyQt6.QtWidgets import QApplication\n",
    "from styles.style import StyleSheet\n",
    "\n",
    "if __name__ == \"__main__\":\n",
    "    app = QApplication(sys.argv)\n",
    "    app.setStyleSheet(StyleSheet.style())\n",
    "    main_window = StartingPage()\n",
    "    main_window.show()\n",
    "    sys.exit(app.exec())\n"
   ]
  },
  {
   "cell_type": "code",
   "execution_count": null,
   "id": "7fd385d0-7542-478c-9f23-8ef0d33606a4",
   "metadata": {},
   "outputs": [],
   "source": []
  }
 ],
 "metadata": {
  "kernelspec": {
   "display_name": "Python 3 (ipykernel)",
   "language": "python",
   "name": "python3"
  },
  "language_info": {
   "codemirror_mode": {
    "name": "ipython",
    "version": 3
   },
   "file_extension": ".py",
   "mimetype": "text/x-python",
   "name": "python",
   "nbconvert_exporter": "python",
   "pygments_lexer": "ipython3",
   "version": "3.11.9"
  }
 },
 "nbformat": 4,
 "nbformat_minor": 5
}
