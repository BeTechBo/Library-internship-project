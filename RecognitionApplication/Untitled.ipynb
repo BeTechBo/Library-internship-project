{
 "cells": [
  {
   "cell_type": "code",
   "execution_count": null,
   "id": "2a4b2c66-5920-48f5-ab74-8d94f61aa411",
   "metadata": {},
   "outputs": [
    {
     "name": "stdout",
     "output_type": "stream",
     "text": [
      "Double-clicked on: group photo.jpg\n",
      "Loaded names: ['Unknown', 'Unknown']\n",
      "Loaded names: ['non', 'Unknown']\n",
      "Updated name at index 0: non\n",
      "Loaded names: ['non', 'Unknown']\n",
      "Updated name at index 0: nonnnn\n",
      "Double-clicked on: group photo.jpg\n",
      "Loaded names: ['non', 'Unknown']\n",
      "Loaded names: ['nonnnn', 'Unknown']\n",
      "Updated name at index 0: nonnnn\n"
     ]
    }
   ],
   "source": [
    "import sys\n",
    "from pages.starting_page import StartingPage\n",
    "from PyQt6.QtWidgets import QApplication\n",
    "from styles.style import StyleSheet\n",
    "\n",
    "if __name__ == \"__main__\":\n",
    "    app = QApplication(sys.argv)\n",
    "    app.setStyleSheet(StyleSheet.style())\n",
    "    main_window = StartingPage()\n",
    "    main_window.show()\n",
    "    sys.exit(app.exec())\n"
   ]
  },
  {
   "cell_type": "code",
   "execution_count": null,
   "id": "68b6daf2-5240-4f5d-905b-b543408b743a",
   "metadata": {},
   "outputs": [],
   "source": []
  }
 ],
 "metadata": {
  "kernelspec": {
   "display_name": "Python 3 (ipykernel)",
   "language": "python",
   "name": "python3"
  },
  "language_info": {
   "codemirror_mode": {
    "name": "ipython",
    "version": 3
   },
   "file_extension": ".py",
   "mimetype": "text/x-python",
   "name": "python",
   "nbconvert_exporter": "python",
   "pygments_lexer": "ipython3",
   "version": "3.8.19"
  }
 },
 "nbformat": 4,
 "nbformat_minor": 5
}
