{
 "cells": [
  {
   "cell_type": "code",
   "execution_count": null,
   "id": "7e9933a9-c1de-46b4-81ec-066409aeebfb",
   "metadata": {},
   "outputs": [],
   "source": [
    "import sys\n",
    "from pages.starting_page import StartingPage\n",
    "from PyQt6.QtWidgets import QApplication\n",
    "from styles.style import StyleSheet\n",
    "\n",
    "if __name__ == \"__main__\":\n",
    "    app = QApplication(sys.argv)\n",
    "    app.setStyleSheet(StyleSheet.style())\n",
    "    main_window = StartingPage()\n",
    "    main_window.show()\n",
    "    sys.exit(app.exec())\n"
   ]
  }
 ],
 "metadata": {
  "kernelspec": {
   "display_name": "Python 3 (ipykernel)",
   "language": "python",
   "name": "python3"
  },
  "language_info": {
   "codemirror_mode": {
    "name": "ipython",
    "version": 3
   },
   "file_extension": ".py",
   "mimetype": "text/x-python",
   "name": "python",
   "nbconvert_exporter": "python",
   "pygments_lexer": "ipython3",
   "version": "3.11.9"
  }
 },
 "nbformat": 4,
 "nbformat_minor": 5
}
