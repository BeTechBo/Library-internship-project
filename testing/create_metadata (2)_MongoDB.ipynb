{
 "cells": [
  {
   "cell_type": "code",
   "execution_count": 1,
   "metadata": {
    "colab": {
     "base_uri": "https://localhost:8080/"
    },
    "id": "8j2e13w2acB4",
    "outputId": "2f1c7e06-2d1f-47e5-f29c-1c856e4b36f1"
   },
   "outputs": [
    {
     "name": "stdout",
     "output_type": "stream",
     "text": [
      "Collecting face_recognition\n",
      "  Downloading face_recognition-1.3.0-py2.py3-none-any.whl (15 kB)\n",
      "Collecting face-recognition-models>=0.3.0 (from face_recognition)\n",
      "  Downloading face_recognition_models-0.3.0.tar.gz (100.1 MB)\n",
      "\u001b[2K     \u001b[90m━━━━━━━━━━━━━━━━━━━━━━━━━━━━━━━━━━━━━━━━\u001b[0m \u001b[32m100.1/100.1 MB\u001b[0m \u001b[31m8.7 MB/s\u001b[0m eta \u001b[36m0:00:00\u001b[0m\n",
      "\u001b[?25h  Preparing metadata (setup.py) ... \u001b[?25l\u001b[?25hdone\n",
      "Requirement already satisfied: Click>=6.0 in /usr/local/lib/python3.10/dist-packages (from face_recognition) (8.1.7)\n",
      "Requirement already satisfied: dlib>=19.7 in /usr/local/lib/python3.10/dist-packages (from face_recognition) (19.24.4)\n",
      "Requirement already satisfied: numpy in /usr/local/lib/python3.10/dist-packages (from face_recognition) (1.25.2)\n",
      "Requirement already satisfied: Pillow in /usr/local/lib/python3.10/dist-packages (from face_recognition) (9.4.0)\n",
      "Building wheels for collected packages: face-recognition-models\n",
      "  Building wheel for face-recognition-models (setup.py) ... \u001b[?25l\u001b[?25hdone\n",
      "  Created wheel for face-recognition-models: filename=face_recognition_models-0.3.0-py2.py3-none-any.whl size=100566170 sha256=f84efd31c9d174a01f549cecc4fb870690f04c78dddfc6c4836f7295383c3927\n",
      "  Stored in directory: /root/.cache/pip/wheels/7a/eb/cf/e9eced74122b679557f597bb7c8e4c739cfcac526db1fd523d\n",
      "Successfully built face-recognition-models\n",
      "Installing collected packages: face-recognition-models, face_recognition\n",
      "Successfully installed face-recognition-models-0.3.0 face_recognition-1.3.0\n"
     ]
    }
   ],
   "source": [
    "!pip install face_recognition"
   ]
  },
  {
   "cell_type": "code",
   "execution_count": 1,
   "metadata": {
    "id": "zM8dSTs0UTPz"
   },
   "outputs": [],
   "source": [
    "#from google.colab import drive\n",
    "import os\n",
    "import cv2\n",
    "#from google.colab.patches import cv2_imshow\n",
    "import datetime\n",
    "import csv\n",
    "import pandas as pd\n",
    "import face_recognition\n",
    "from pymongo import MongoClient"
   ]
  },
  {
   "cell_type": "code",
   "execution_count": 3,
   "metadata": {
    "id": "UD3vXYnnUtP3"
   },
   "outputs": [],
   "source": [
    "# drive.mount('/content/drive', force_remount=True)\n",
    "# input_folder = '/content/drive/MyDrive/segmentation_to_process'\n",
    "# output_folder = '/content/drive/MyDrive/segmentation_output'\n",
    "\n",
    "# now = datetime.datetime.now()\n",
    "# now.isoformat()\n",
    "# directory = str(now)\n",
    "\n",
    "# dest_path = os.path.join(output_folder, directory)\n",
    "# archive_path = os.path.join(dest_path, \"source_files\")\n",
    "\n",
    "# os.mkdir(dest_path)\n",
    "# os.mkdir(archive_path)\n",
    "# metadata_path = os.path.join(dest_path, 'metadata.csv')\n",
    "# header = ['title', 'year', 'issue', 'page', 'filename']\n",
    "\n",
    "# with open(metadata_path, 'w', encoding='UTF8', newline='') as f:\n",
    "#     writer = csv.writer(f)\n",
    "\n",
    "#     # write the header\n",
    "#     writer.writerow(header)\n",
    "now = datetime.datetime.now()\n",
    "now.isoformat()\n",
    "directory = str(now)\n",
    "input_folder = 'yearbook'\n",
    "output_folder = 'yearbook_output'\n",
    "dest_path = os.path.join(output_folder, directory)\n",
    "archive_path = os.path.join(dest_path, \"source_files\")"
   ]
  },
  {
   "cell_type": "code",
   "execution_count": 17,
   "metadata": {},
   "outputs": [],
   "source": [
    "# Connecting to MongoDB database\n",
    "client = MongoClient(\"localhost\", 27017)\n",
    "\n",
    "#database_name = 'peopledata'\n",
    "#collection_name = 'metadata'\n",
    "\n",
    "db = client.peopledata\n",
    "people = db.metadata"
   ]
  },
  {
   "cell_type": "code",
   "execution_count": 13,
   "metadata": {
    "colab": {
     "base_uri": "https://localhost:8080/"
    },
    "id": "YfmUWLfQIG0f",
    "outputId": "319296ca-ef04-4345-ded7-9637efe71fc0"
   },
   "outputs": [],
   "source": [
    "def segment(file):\n",
    "  filebase = os.path.splitext(file)[0]\n",
    "  try:\n",
    "    title, year, issue, page,_ = filebase.split('_')\n",
    "  except:\n",
    "    print(filebase)\n",
    "  imagepath = os.path.join(input_folder, file)\n",
    "  findFaces = face_recognition.load_image_file(imagepath)\n",
    "  encodings = face_recognition.face_encodings(findFaces)\n",
    "  if len(encodings) > 0:\n",
    "    suffix= \".jpg\"\n",
    "    locations = face_recognition.face_locations(findFaces)\n",
    "    for (top, right, bottom, left) in locations: #we can turn this into multiple little pictures if thats more convinient later\n",
    "      cv2.rectangle(findFaces, (left, top), (right, bottom), (0, 255, 0), 2)\n",
    "    dest_filepath = os.path.join(output_folder, filebase + suffix)\n",
    "    cv2.imwrite(dest_filepath, findFaces)\n",
    "    #data=[title, year, issue, page, filebase,encodings]\n",
    "    #df.loc[len(df)] = data\n",
    "    encodings = [encoding.tolist() for encoding in encodings]\n",
    "    data = {\n",
    "        'title': title,\n",
    "        'year': year,\n",
    "        'issue': issue,\n",
    "        'page': page,\n",
    "        'filename': filebase,\n",
    "        'encodings': encodings\n",
    "    }\n",
    "    # Add a try-except block to catch connection errors\n",
    "    try:\n",
    "        people.insert_one(data)\n",
    "    except Exception as e:\n",
    "        print(f\"Error inserting data into MongoDB: {e}\")"
   ]
  },
  {
   "cell_type": "code",
   "execution_count": 15,
   "metadata": {},
   "outputs": [
    {
     "name": "stdout",
     "output_type": "stream",
     "text": [
      "45 files found\n",
      "Metadata saved to MongoDB.\n"
     ]
    }
   ],
   "source": [
    "# List all .jpg files in the input folder\n",
    "file_list = [file for file in os.listdir(input_folder) if file.lower().endswith('.jpg')]\n",
    "print(len(file_list), 'files found')\n",
    "\n",
    "# Process each file\n",
    "for file in file_list:\n",
    "    segment(file)\n",
    "\n",
    "print(\"Metadata saved to MongoDB.\")"
   ]
  },
  {
   "cell_type": "code",
   "execution_count": 21,
   "metadata": {
    "id": "H8NCfEnYwCrz"
   },
   "outputs": [
    {
     "name": "stdout",
     "output_type": "stream",
     "text": [
      "Number of documents in the 'people' collection: 28\n"
     ]
    }
   ],
   "source": [
    "# Count the number of documents in the 'people' collection\n",
    "document_count = people.count_documents({})\n",
    "\n",
    "print(f\"Number of documents in the 'people' collection: {document_count}\")"
   ]
  },
  {
   "cell_type": "code",
   "execution_count": null,
   "metadata": {},
   "outputs": [],
   "source": []
  }
 ],
 "metadata": {
  "accelerator": "GPU",
  "colab": {
   "gpuType": "T4",
   "provenance": [],
   "toc_visible": true
  },
  "kernelspec": {
   "display_name": "Python 3 (ipykernel)",
   "language": "python",
   "name": "python3"
  },
  "language_info": {
   "codemirror_mode": {
    "name": "ipython",
    "version": 3
   },
   "file_extension": ".py",
   "mimetype": "text/x-python",
   "name": "python",
   "nbconvert_exporter": "python",
   "pygments_lexer": "ipython3",
   "version": "3.11.9"
  }
 },
 "nbformat": 4,
 "nbformat_minor": 4
}
