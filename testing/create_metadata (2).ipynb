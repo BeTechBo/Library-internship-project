{
  "cells": [
    {
      "cell_type": "code",
      "execution_count": 1,
      "metadata": {
        "colab": {
          "base_uri": "https://localhost:8080/"
        },
        "id": "8j2e13w2acB4",
        "outputId": "2f1c7e06-2d1f-47e5-f29c-1c856e4b36f1"
      },
      "outputs": [
        {
          "output_type": "stream",
          "name": "stdout",
          "text": [
            "Collecting face_recognition\n",
            "  Downloading face_recognition-1.3.0-py2.py3-none-any.whl (15 kB)\n",
            "Collecting face-recognition-models>=0.3.0 (from face_recognition)\n",
            "  Downloading face_recognition_models-0.3.0.tar.gz (100.1 MB)\n",
            "\u001b[2K     \u001b[90m━━━━━━━━━━━━━━━━━━━━━━━━━━━━━━━━━━━━━━━━\u001b[0m \u001b[32m100.1/100.1 MB\u001b[0m \u001b[31m8.7 MB/s\u001b[0m eta \u001b[36m0:00:00\u001b[0m\n",
            "\u001b[?25h  Preparing metadata (setup.py) ... \u001b[?25l\u001b[?25hdone\n",
            "Requirement already satisfied: Click>=6.0 in /usr/local/lib/python3.10/dist-packages (from face_recognition) (8.1.7)\n",
            "Requirement already satisfied: dlib>=19.7 in /usr/local/lib/python3.10/dist-packages (from face_recognition) (19.24.4)\n",
            "Requirement already satisfied: numpy in /usr/local/lib/python3.10/dist-packages (from face_recognition) (1.25.2)\n",
            "Requirement already satisfied: Pillow in /usr/local/lib/python3.10/dist-packages (from face_recognition) (9.4.0)\n",
            "Building wheels for collected packages: face-recognition-models\n",
            "  Building wheel for face-recognition-models (setup.py) ... \u001b[?25l\u001b[?25hdone\n",
            "  Created wheel for face-recognition-models: filename=face_recognition_models-0.3.0-py2.py3-none-any.whl size=100566170 sha256=f84efd31c9d174a01f549cecc4fb870690f04c78dddfc6c4836f7295383c3927\n",
            "  Stored in directory: /root/.cache/pip/wheels/7a/eb/cf/e9eced74122b679557f597bb7c8e4c739cfcac526db1fd523d\n",
            "Successfully built face-recognition-models\n",
            "Installing collected packages: face-recognition-models, face_recognition\n",
            "Successfully installed face-recognition-models-0.3.0 face_recognition-1.3.0\n"
          ]
        }
      ],
      "source": [
        "!pip install face_recognition"
      ]
    },
    {
      "cell_type": "code",
      "execution_count": 2,
      "metadata": {
        "id": "zM8dSTs0UTPz"
      },
      "outputs": [],
      "source": [
        "from google.colab import drive\n",
        "import os\n",
        "import cv2\n",
        "from google.colab.patches import cv2_imshow\n",
        "import datetime\n",
        "import csv\n",
        "import pandas as pd\n",
        "import face_recognition"
      ]
    },
    {
      "cell_type": "code",
      "execution_count": 3,
      "metadata": {
        "id": "UD3vXYnnUtP3"
      },
      "outputs": [],
      "source": [
        "# drive.mount('/content/drive', force_remount=True)\n",
        "# input_folder = '/content/drive/MyDrive/segmentation_to_process'\n",
        "# output_folder = '/content/drive/MyDrive/segmentation_output'\n",
        "\n",
        "# now = datetime.datetime.now()\n",
        "# now.isoformat()\n",
        "# directory = str(now)\n",
        "\n",
        "# dest_path = os.path.join(output_folder, directory)\n",
        "# archive_path = os.path.join(dest_path, \"source_files\")\n",
        "\n",
        "# os.mkdir(dest_path)\n",
        "# os.mkdir(archive_path)\n",
        "# metadata_path = os.path.join(dest_path, 'metadata.csv')\n",
        "# header = ['title', 'year', 'issue', 'page', 'filename']\n",
        "\n",
        "# with open(metadata_path, 'w', encoding='UTF8', newline='') as f:\n",
        "#     writer = csv.writer(f)\n",
        "\n",
        "#     # write the header\n",
        "#     writer.writerow(header)\n",
        "now = datetime.datetime.now()\n",
        "now.isoformat()\n",
        "directory = str(now)\n",
        "input_folder = 'yearbook'\n",
        "output_folder = 'yearbook_output'\n",
        "dest_path = os.path.join(output_folder, directory)\n",
        "archive_path = os.path.join(dest_path, \"source_files\")"
      ]
    },
    {
      "cell_type": "code",
      "execution_count": 4,
      "metadata": {
        "colab": {
          "base_uri": "https://localhost:8080/"
        },
        "id": "1bR9ea3yHtwo",
        "outputId": "f9ee616f-e68d-4f45-b1f7-a1e980b5c4a1"
      },
      "outputs": [
        {
          "output_type": "stream",
          "name": "stdout",
          "text": [
            "Requirement already satisfied: face_recognition in /usr/local/lib/python3.10/dist-packages (1.3.0)\n",
            "Collecting pymongo\n",
            "  Downloading pymongo-4.8.0-cp310-cp310-manylinux_2_17_x86_64.manylinux2014_x86_64.whl (1.2 MB)\n",
            "\u001b[2K     \u001b[90m━━━━━━━━━━━━━━━━━━━━━━━━━━━━━━━━━━━━━━━━\u001b[0m \u001b[32m1.2/1.2 MB\u001b[0m \u001b[31m9.6 MB/s\u001b[0m eta \u001b[36m0:00:00\u001b[0m\n",
            "\u001b[?25hRequirement already satisfied: face-recognition-models>=0.3.0 in /usr/local/lib/python3.10/dist-packages (from face_recognition) (0.3.0)\n",
            "Requirement already satisfied: Click>=6.0 in /usr/local/lib/python3.10/dist-packages (from face_recognition) (8.1.7)\n",
            "Requirement already satisfied: dlib>=19.7 in /usr/local/lib/python3.10/dist-packages (from face_recognition) (19.24.4)\n",
            "Requirement already satisfied: numpy in /usr/local/lib/python3.10/dist-packages (from face_recognition) (1.25.2)\n",
            "Requirement already satisfied: Pillow in /usr/local/lib/python3.10/dist-packages (from face_recognition) (9.4.0)\n",
            "Collecting dnspython<3.0.0,>=1.16.0 (from pymongo)\n",
            "  Downloading dnspython-2.6.1-py3-none-any.whl (307 kB)\n",
            "\u001b[2K     \u001b[90m━━━━━━━━━━━━━━━━━━━━━━━━━━━━━━━━━━━━━━━━\u001b[0m \u001b[32m307.7/307.7 kB\u001b[0m \u001b[31m12.7 MB/s\u001b[0m eta \u001b[36m0:00:00\u001b[0m\n",
            "\u001b[?25hInstalling collected packages: dnspython, pymongo\n",
            "Successfully installed dnspython-2.6.1 pymongo-4.8.0\n"
          ]
        }
      ],
      "source": [
        "\n",
        "!pip install face_recognition pymongo"
      ]
    },
    {
      "cell_type": "code",
      "source": [
        "import os\n",
        "\n",
        "# Set environment variables\n",
        "os.environ['MONGODB_USERNAME'] = 'x'\n",
        "os.environ['MONGODB_PASSWORD'] = 'x'\n",
        "os.environ['MONGODB_CLUSTER'] = 'x'"
      ],
      "metadata": {
        "id": "M7MeU7nhwFMt"
      },
      "execution_count": 10,
      "outputs": []
    },
    {
      "cell_type": "code",
      "execution_count": 11,
      "metadata": {
        "colab": {
          "base_uri": "https://localhost:8080/"
        },
        "id": "YfmUWLfQIG0f",
        "outputId": "319296ca-ef04-4345-ded7-9637efe71fc0"
      },
      "outputs": [
        {
          "output_type": "stream",
          "name": "stdout",
          "text": [
            "Connected to MongoDB Atlas successfully.\n",
            "8 files found\n",
            "Metadata saved to MongoDB.\n"
          ]
        }
      ],
      "source": [
        "import os\n",
        "import datetime\n",
        "from pymongo import MongoClient\n",
        "\n",
        "# Initialize input and output folders\n",
        "now = datetime.datetime.now()\n",
        "directory = now.isoformat()\n",
        "input_folder = 'yearbook'  # Update with actual path\n",
        "output_folder = 'yearbook_output'  # Update with actual path\n",
        "\n",
        "# Create directories if they do not exist\n",
        "os.makedirs(input_folder, exist_ok=True)\n",
        "os.makedirs(output_folder, exist_ok=True)\n",
        "\n",
        "# MongoDB connection details\n",
        "username = os.getenv('MONGODB_USERNAME')\n",
        "password = os.getenv('MONGODB_PASSWORD')\n",
        "cluster_address = os.getenv('MONGODB_CLUSTER')\n",
        "#cluster_address = 'x'\n",
        "database_name = 'peopledata'\n",
        "collection_name = 'metadata'\n",
        "\n",
        "# Encode special characters in the password if necessary\n",
        "from urllib.parse import quote_plus\n",
        "encoded_password = quote_plus(password)\n",
        "\n",
        "# Construct the connection string\n",
        "connection_string = f'mongodb+srv://{username}:{encoded_password}@{cluster_address}/?retryWrites=true&w=majority'\n",
        "\n",
        "try:\n",
        "    client = MongoClient(connection_string)\n",
        "    # Attempt to retrieve server information to test connection\n",
        "    client.server_info()\n",
        "    print(\"Connected to MongoDB Atlas successfully.\")\n",
        "except Exception as e:\n",
        "    print(\"Failed to connect to MongoDB Atlas:\", e)\n",
        "    exit(1)\n",
        "\n",
        "db = client[database_name]\n",
        "collection = db[collection_name]\n",
        "\n",
        "def segment(file, input_folder, output_folder):\n",
        "    filebase = os.path.splitext(file)[0]\n",
        "\n",
        "    try:\n",
        "        title, year, issue, page = filebase.split('_')\n",
        "    except ValueError:\n",
        "        print(f\"Filebase '{filebase}' does not split into four parts as expected.\")\n",
        "        return\n",
        "\n",
        "    imagepath = os.path.join(input_folder, file)\n",
        "    findFaces = face_recognition.load_image_file(imagepath)\n",
        "    encodings = face_recognition.face_encodings(findFaces)\n",
        "\n",
        "    if len(encodings) > 0:\n",
        "        suffix = \".jpg\"\n",
        "        locations = face_recognition.face_locations(findFaces)\n",
        "        for (top, right, bottom, left) in locations:\n",
        "            cv2.rectangle(findFaces, (left, top), (right, bottom), (0, 255, 0), 2)\n",
        "\n",
        "        dest_filepath = os.path.join(output_folder, filebase + suffix)\n",
        "        cv2.imwrite(dest_filepath, findFaces)\n",
        "        encodings = [encoding.tolist() for encoding in encodings]\n",
        "        data = {\n",
        "            'title': title,\n",
        "            'year': year,\n",
        "            'issue': issue,\n",
        "            'page': page,\n",
        "            'filename': filebase,\n",
        "            'encodings': encodings\n",
        "        }\n",
        "        # Add a try-except block to catch connection errors\n",
        "        try:\n",
        "            collection.insert_one(data)\n",
        "        except Exception as e:\n",
        "            print(f\"Error inserting data into MongoDB: {e}\")\n",
        "\n",
        "# List all .jpg files in the input folder\n",
        "file_list = [file for file in os.listdir(input_folder) if file.lower().endswith('.jpg')]\n",
        "print(len(file_list), 'files found')\n",
        "\n",
        "# Process each file\n",
        "for file in file_list:\n",
        "    segment(file, input_folder, output_folder)\n",
        "\n",
        "print(\"Metadata saved to MongoDB.\")\n",
        "\n"
      ]
    },
    {
      "cell_type": "code",
      "source": [],
      "metadata": {
        "id": "H8NCfEnYwCrz"
      },
      "execution_count": 9,
      "outputs": []
    }
  ],
  "metadata": {
    "accelerator": "GPU",
    "colab": {
      "gpuType": "T4",
      "provenance": [],
      "toc_visible": true
    },
    "kernelspec": {
      "display_name": "Python 3",
      "name": "python3"
    },
    "language_info": {
      "name": "python"
    }
  },
  "nbformat": 4,
  "nbformat_minor": 0
}